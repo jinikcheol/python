{
 "cells": [
  {
   "cell_type": "code",
   "execution_count": 1,
   "metadata": {},
   "outputs": [
    {
     "name": "stdout",
     "output_type": "stream",
     "text": [
      "분야를 입력하시오: 화장품/미용\n"
     ]
    },
    {
     "data": {
      "application/vnd.jupyter.widget-view+json": {
       "model_id": "1666f3f2de5e4dbcbe21fb5c216753c5",
       "version_major": 2,
       "version_minor": 0
      },
      "text/plain": [
       "HBox(children=(FloatProgress(value=0.0, max=5.0), HTML(value='')))"
      ]
     },
     "metadata": {},
     "output_type": "display_data"
    },
    {
     "data": {
      "application/vnd.jupyter.widget-view+json": {
       "model_id": "d374e1b075de4b3a98d3ef680b117bef",
       "version_major": 2,
       "version_minor": 0
      },
      "text/plain": [
       "HBox(children=(FloatProgress(value=0.0, max=20.0), HTML(value='')))"
      ]
     },
     "metadata": {},
     "output_type": "display_data"
    },
    {
     "name": "stdout",
     "output_type": "stream",
     "text": [
      "1\n",
      "라네즈네오쿠션\n",
      "2\n",
      "헤라블랙쿠션\n",
      "3\n",
      "에스티로더더블웨어파운데이션\n",
      "4\n",
      "메디힐캘러스멀티골드리프팅크림\n",
      "5\n",
      "데싱디바패디\n",
      "6\n",
      "ts샴푸\n",
      "7\n",
      "ahc아이크림\n",
      "8\n",
      "타투스티커\n",
      "9\n",
      "바디워시\n",
      "10\n",
      "마스크팩\n",
      "11\n",
      "독도토너\n",
      "12\n",
      "샴푸\n",
      "13\n",
      "인셀덤\n",
      "14\n",
      "데싱디바\n",
      "15\n",
      "닥터지선크림\n",
      "16\n",
      "금강연화왁스\n",
      "17\n",
      "염색약\n",
      "18\n",
      "헤어에센스\n",
      "19\n",
      "탈모샴푸\n",
      "20\n",
      "설화수자음2종\n",
      "\n"
     ]
    },
    {
     "data": {
      "application/vnd.jupyter.widget-view+json": {
       "model_id": "bd19a96d2c6f47f0a1b288f7104f999e",
       "version_major": 2,
       "version_minor": 0
      },
      "text/plain": [
       "HBox(children=(FloatProgress(value=0.0, max=20.0), HTML(value='')))"
      ]
     },
     "metadata": {},
     "output_type": "display_data"
    },
    {
     "name": "stdout",
     "output_type": "stream",
     "text": [
      "21\n",
      "조성아물분크림\n",
      "22\n",
      "모로칸오일\n",
      "23\n",
      "닥터그루트샴푸\n",
      "24\n",
      "폼클렌징\n",
      "25\n",
      "젤네일\n",
      "26\n",
      "입생로랑틴트\n",
      "27\n",
      "맥주효모샴푸\n",
      "28\n",
      "닥터지레드블레미쉬클리어크림\n",
      "29\n",
      "톤업크림\n",
      "30\n",
      "클렌징오일\n",
      "31\n",
      "바이오더마클렌징워터\n",
      "32\n",
      "여성청결제\n",
      "33\n",
      "센카퍼펙트휩\n",
      "34\n",
      "속눈썹영양제\n",
      "35\n",
      "선크림\n",
      "36\n",
      "수분크림\n",
      "37\n",
      "동국제약마데카크림\n",
      "38\n",
      "오호라젤네일\n",
      "39\n",
      "헤라블랙파운데이션\n",
      "40\n",
      "듀이셀턴온크림\n",
      "\n"
     ]
    },
    {
     "data": {
      "application/vnd.jupyter.widget-view+json": {
       "model_id": "2734f9df7ee042ac82d1a70484f3ef2e",
       "version_major": 2,
       "version_minor": 0
      },
      "text/plain": [
       "HBox(children=(FloatProgress(value=0.0, max=20.0), HTML(value='')))"
      ]
     },
     "metadata": {},
     "output_type": "display_data"
    },
    {
     "name": "stdout",
     "output_type": "stream",
     "text": [
      "41\n",
      "피지오겔\n",
      "42\n",
      "정샘물에센셜스킨누더쿠션\n",
      "43\n",
      "네일스티커\n",
      "44\n",
      "맥립스틱\n",
      "45\n",
      "헤어트리트먼트\n",
      "46\n",
      "매니큐어\n",
      "47\n",
      "입생로랑쿠션\n",
      "48\n",
      "향수\n",
      "49\n",
      "바이레도블랑쉬\n",
      "50\n",
      "남자향수\n",
      "51\n",
      "실크테라피헤어에센스\n",
      "52\n",
      "마녀공장클렌징오일\n",
      "53\n",
      "아모스녹차실감샴푸\n",
      "54\n",
      "설화수\n",
      "55\n",
      "메이크업포에버uhd파우더\n",
      "56\n",
      "디올립글로우\n",
      "57\n",
      "닥터지수분크림\n",
      "58\n",
      "핸드워시\n",
      "59\n",
      "네일파츠\n",
      "60\n",
      "데오드란트\n",
      "\n"
     ]
    },
    {
     "data": {
      "application/vnd.jupyter.widget-view+json": {
       "model_id": "0b84b236f1f14de0b8fc1d0c233bfcda",
       "version_major": 2,
       "version_minor": 0
      },
      "text/plain": [
       "HBox(children=(FloatProgress(value=0.0, max=20.0), HTML(value='')))"
      ]
     },
     "metadata": {},
     "output_type": "display_data"
    },
    {
     "name": "stdout",
     "output_type": "stream",
     "text": [
      "61\n",
      "로레알염색약\n",
      "62\n",
      "조말론향수\n",
      "63\n",
      "아모스컬링에센스2x\n",
      "64\n",
      "우르오스\n",
      "65\n",
      "ahc선스틱\n",
      "66\n",
      "입생로랑립스틱\n",
      "67\n",
      "티트리오일\n",
      "68\n",
      "닥터브로너스\n",
      "69\n",
      "바디로션\n",
      "70\n",
      "페디큐어\n",
      "71\n",
      "헤드스파7트리트먼트\n",
      "72\n",
      "피지오겔페이셜크림\n",
      "73\n",
      "섀도우팔레트\n",
      "74\n",
      "닥터포헤어샴푸\n",
      "75\n",
      "샤넬향수\n",
      "76\n",
      "메디큐브제로모공패드\n",
      "77\n",
      "해피바스바디워시\n",
      "78\n",
      "슈에무라하드포뮬라\n",
      "79\n",
      "새치염색약\n",
      "80\n",
      "존슨즈베이비샤워코롱\n",
      "\n"
     ]
    },
    {
     "data": {
      "application/vnd.jupyter.widget-view+json": {
       "model_id": "254ea11469974de1b717ceda48426cb9",
       "version_major": 2,
       "version_minor": 0
      },
      "text/plain": [
       "HBox(children=(FloatProgress(value=0.0, max=20.0), HTML(value='')))"
      ]
     },
     "metadata": {},
     "output_type": "display_data"
    },
    {
     "name": "stdout",
     "output_type": "stream",
     "text": [
      "81\n",
      "제모크림\n",
      "82\n",
      "헤드앤숄더샴푸\n",
      "83\n",
      "닥터디퍼런트\n",
      "84\n",
      "헤드스파7\n",
      "85\n",
      "엘로엘선쿠션\n",
      "86\n",
      "인셀덤화장품\n",
      "87\n",
      "아이크림\n",
      "88\n",
      "틴트\n",
      "89\n",
      "비누\n",
      "90\n",
      "불가리향수\n",
      "91\n",
      "구달청귤비타c세럼\n",
      "92\n",
      "달바미스트세럼\n",
      "93\n",
      "닥터지블랙스네일크림\n",
      "94\n",
      "클렌징폼\n",
      "95\n",
      "썬크림\n",
      "96\n",
      "닥터지\n",
      "97\n",
      "바렉신크림\n",
      "98\n",
      "선스틱\n",
      "99\n",
      "설화수윤조에센스\n",
      "100\n",
      "메디힐마스크팩\n",
      "\n",
      "\n"
     ]
    }
   ],
   "source": [
    "import pandas as pd\n",
    "import numpy as np\n",
    "import math\n",
    "\n",
    "from bs4 import BeautifulSoup\n",
    "from selenium import webdriver\n",
    "from selenium.webdriver import ActionChains as AC # 액션 체인\n",
    "from selenium.webdriver.common.keys import Keys\n",
    "from tqdm.notebook import tqdm # for문 진행상황\n",
    "import re # 정규표현식 : 텍스트 처리\n",
    "from time import sleep # 시간 지연\n",
    "import time \n",
    "from datetime import datetime, date # 날짜 정보\n",
    "\n",
    "# 네이버DataLab 크롬창 띄우기\n",
    "driver = webdriver.Chrome(\"chromedriver.exe\") # 크롬 드라이버 로드\n",
    "driver.get(\"https://datalab.naver.com/\")   # 네이버카페 띄우기\n",
    "time.sleep(2)\n",
    "\n",
    "# 쇼핑인사이트 접속\n",
    "driver.find_element_by_css_selector(\"ul > li.list._shopping\").click()\n",
    "time.sleep(2)\n",
    "\n",
    "# 분야 선택 \n",
    "driver.find_element_by_css_selector(\"span.select_btn\").click()\n",
    "time.sleep(2)\n",
    "\n",
    "# 분야 입력\n",
    "query_txt = input('분야를 입력하시오: ')\n",
    "\n",
    "# 분야 종류 로딩\n",
    "query_txt_sums = driver.find_elements_by_css_selector('a.option')\n",
    "# 입력한 분야 대조 후 해당 분야 선택\n",
    "for i in range(1,12):\n",
    "    \n",
    "    if  query_txt == query_txt_sums[i].text:\n",
    "        query_txt_set = \"\"\"//*[@id=\"content\"]/div[2]/div/div[1]/div/div/div[1]/div/div[1]/ul/li[{}]/a\"\"\".format(i+1)\n",
    "        driver.find_element_by_xpath(query_txt_set).click()\n",
    "        \n",
    "    time.sleep(0.5)\n",
    "# 성별 선택- 전체    \n",
    "driver.find_element_by_xpath(\"\"\"//*[@id=\"content\"]/div[2]/div/div[1]/div/div/div[4]/div/div/span[1]/label\"\"\").click()\n",
    "\n",
    "# 검색 버튼 클릭\n",
    "driver.find_element_by_xpath(\"\"\"//*[@id=\"content\"]/div[2]/div/div[1]/div/a/span\"\"\").click()\n",
    "\n",
    "time.sleep(0.5)\n",
    "\n",
    "dict = {}\n",
    "for j in tqdm(range(0,5)):\n",
    "    try:\n",
    "        for i in tqdm(range(0,20)):\n",
    "            target_info = {}\n",
    "            \n",
    "            rank_top_nums = driver.find_elements_by_css_selector('span.rank_top1000_num')\n",
    "            rank_top_num = rank_top_nums[i].text\n",
    "            target_info['rank_top_num'] = rank_top_num\n",
    "\n",
    "            rank_top_lists = driver.find_elements_by_css_selector('a.link_text')\n",
    "            rank_top_list = rank_top_lists[i].text\n",
    "            rank_top_list_re = ''.join(rank_top_list).replace(\"{}\\n\".format((j*20)+(i+1)),\"\")\n",
    "            target_info['rank_top_list'] = rank_top_list_re\n",
    "            \n",
    "            if i==19:\n",
    "                driver.find_element_by_xpath(\"\"\"//*[@id=\"content\"]/div[2]/div/div[2]/div[2]/div/div/div[2]/div/a[2]\"\"\").click()\n",
    "                time.sleep(1)\n",
    "                \n",
    "            dict[(j*20)+i] = target_info\n",
    "            time.sleep(1)\n",
    "\n",
    "            print(rank_top_list)\n",
    "    except:        \n",
    "        continue \n",
    "\n",
    "# 판다스로 만들기\n",
    "import pandas as pd\n",
    "result_df = pd.DataFrame.from_dict(dict, 'index')\n",
    "\n",
    "# result_df.rename(columns={result_df.columns[0] : name}, inplace=True)\n",
    "\n",
    "print(result_df)\n",
    "\n",
    "result_df.to_excel(\"naver_rank_list.xlsx\", encoding='euc-kr')"
   ]
  }
 ],
 "metadata": {
  "kernelspec": {
   "display_name": "Python 3",
   "language": "python",
   "name": "python3"
  },
  "language_info": {
   "codemirror_mode": {
    "name": "ipython",
    "version": 3
   },
   "file_extension": ".py",
   "mimetype": "text/x-python",
   "name": "python",
   "nbconvert_exporter": "python",
   "pygments_lexer": "ipython3",
   "version": "3.8.3"
  }
 },
 "nbformat": 4,
 "nbformat_minor": 4
}
